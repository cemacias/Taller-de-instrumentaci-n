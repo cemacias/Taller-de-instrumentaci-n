{
 "cells": [
  {
   "cell_type": "code",
   "execution_count": 1,
   "metadata": {},
   "outputs": [],
   "source": [
    "# Cargar a la memoria de trabajo las bibliotecas: Pandas (manejo de datos) conel acronimo pd, \n",
    "# Numpy (numerical python) como np y la biblioteca de gráficas Matplotlib como plt\n",
    "# Se asignan nombres cortos.\n",
    "import pandas as pd \n",
    "import numpy as np\n",
    "import matplotlib.pyplot as plt\n",
    "#\n",
    "# Usar \"Shift+Enter\" para procesar la información de la celda\n",
    "#"
   ]
  },
  {
   "cell_type": "code",
   "execution_count": 2,
   "metadata": {},
   "outputs": [],
   "source": [
    "\n",
    "# Lee un archivo de texto (.csv) con la función Pandas \"read_csv\", con elementos separados por mas de \n",
    "# un espacio (sep='\\s+'), brincándose 4 (skiprows=4)renglones del inicio (encabezados)\n",
    "#guardaod en la variable df0\n",
    "df0 = pd.read_csv('Ejemplo1.csv', skiprows=4, sep='\\s+')\n",
    "# \"Shift + Enter\" "
   ]
  },
  {
   "cell_type": "code",
   "execution_count": 3,
   "metadata": {},
   "outputs": [
    {
     "data": {
      "text/html": [
       "<div>\n",
       "<style scoped>\n",
       "    .dataframe tbody tr th:only-of-type {\n",
       "        vertical-align: middle;\n",
       "    }\n",
       "\n",
       "    .dataframe tbody tr th {\n",
       "        vertical-align: top;\n",
       "    }\n",
       "\n",
       "    .dataframe thead th {\n",
       "        text-align: right;\n",
       "    }\n",
       "</style>\n",
       "<table border=\"1\" class=\"dataframe\">\n",
       "  <thead>\n",
       "    <tr style=\"text-align: right;\">\n",
       "      <th></th>\n",
       "      <th>DD/MM/AAAA</th>\n",
       "      <th>HH:MM</th>\n",
       "      <th>DIRS</th>\n",
       "      <th>DIRR</th>\n",
       "      <th>RAPVIENTO2</th>\n",
       "      <th>RAPRAFAGA2</th>\n",
       "      <th>TEMP</th>\n",
       "      <th>HR</th>\n",
       "      <th>PB</th>\n",
       "      <th>PREC</th>\n",
       "      <th>RAD-SOL</th>\n",
       "    </tr>\n",
       "  </thead>\n",
       "  <tbody>\n",
       "    <tr>\n",
       "      <th>0</th>\n",
       "      <td>29/01/2018</td>\n",
       "      <td>21:00</td>\n",
       "      <td>229</td>\n",
       "      <td>281</td>\n",
       "      <td>4.0</td>\n",
       "      <td>6.5</td>\n",
       "      <td>32.1</td>\n",
       "      <td>17</td>\n",
       "      <td>1013.3</td>\n",
       "      <td>0.0</td>\n",
       "      <td>659.0</td>\n",
       "    </tr>\n",
       "    <tr>\n",
       "      <th>1</th>\n",
       "      <td>29/01/2018</td>\n",
       "      <td>21:10</td>\n",
       "      <td>225</td>\n",
       "      <td>261</td>\n",
       "      <td>3.9</td>\n",
       "      <td>6.6</td>\n",
       "      <td>32.4</td>\n",
       "      <td>15</td>\n",
       "      <td>1013.2</td>\n",
       "      <td>0.0</td>\n",
       "      <td>647.0</td>\n",
       "    </tr>\n",
       "    <tr>\n",
       "      <th>2</th>\n",
       "      <td>29/01/2018</td>\n",
       "      <td>21:20</td>\n",
       "      <td>227</td>\n",
       "      <td>300</td>\n",
       "      <td>3.4</td>\n",
       "      <td>6.3</td>\n",
       "      <td>32.4</td>\n",
       "      <td>15</td>\n",
       "      <td>1013.2</td>\n",
       "      <td>0.0</td>\n",
       "      <td>629.0</td>\n",
       "    </tr>\n",
       "    <tr>\n",
       "      <th>3</th>\n",
       "      <td>29/01/2018</td>\n",
       "      <td>21:30</td>\n",
       "      <td>230</td>\n",
       "      <td>276</td>\n",
       "      <td>3.5</td>\n",
       "      <td>6.4</td>\n",
       "      <td>32.6</td>\n",
       "      <td>15</td>\n",
       "      <td>1013.1</td>\n",
       "      <td>0.0</td>\n",
       "      <td>609.0</td>\n",
       "    </tr>\n",
       "    <tr>\n",
       "      <th>4</th>\n",
       "      <td>29/01/2018</td>\n",
       "      <td>21:40</td>\n",
       "      <td>225</td>\n",
       "      <td>274</td>\n",
       "      <td>3.5</td>\n",
       "      <td>6.6</td>\n",
       "      <td>32.3</td>\n",
       "      <td>14</td>\n",
       "      <td>1013.0</td>\n",
       "      <td>0.0</td>\n",
       "      <td>585.0</td>\n",
       "    </tr>\n",
       "  </tbody>\n",
       "</table>\n",
       "</div>"
      ],
      "text/plain": [
       "   DD/MM/AAAA  HH:MM  DIRS  DIRR  RAPVIENTO2  RAPRAFAGA2  TEMP  HR      PB  \\\n",
       "0  29/01/2018  21:00   229   281         4.0         6.5  32.1  17  1013.3   \n",
       "1  29/01/2018  21:10   225   261         3.9         6.6  32.4  15  1013.2   \n",
       "2  29/01/2018  21:20   227   300         3.4         6.3  32.4  15  1013.2   \n",
       "3  29/01/2018  21:30   230   276         3.5         6.4  32.6  15  1013.1   \n",
       "4  29/01/2018  21:40   225   274         3.5         6.6  32.3  14  1013.0   \n",
       "\n",
       "   PREC  RAD-SOL  \n",
       "0   0.0    659.0  \n",
       "1   0.0    647.0  \n",
       "2   0.0    629.0  \n",
       "3   0.0    609.0  \n",
       "4   0.0    585.0  "
      ]
     },
     "execution_count": 3,
     "metadata": {},
     "output_type": "execute_result"
    }
   ],
   "source": [
    "# Lee los primeros 5 renglones del archivo\n",
    "df0.head()\n",
    "# \"Shift+Enter\""
   ]
  },
  {
   "cell_type": "code",
   "execution_count": 4,
   "metadata": {},
   "outputs": [],
   "source": [
    "# Rename column to simpler name\n",
    "df0.rename(columns={'RAD-SOL': 'Rs'}, inplace=True)\n",
    "#df.rename(columns={'TEMP': 'T'}, inplace=True)\n",
    "#df.rename(columns={'DD/MM/AAAA': 'fecha'}, inplace=True)"
   ]
  },
  {
   "cell_type": "code",
   "execution_count": 5,
   "metadata": {},
   "outputs": [
    {
     "data": {
      "text/html": [
       "<div>\n",
       "<style scoped>\n",
       "    .dataframe tbody tr th:only-of-type {\n",
       "        vertical-align: middle;\n",
       "    }\n",
       "\n",
       "    .dataframe tbody tr th {\n",
       "        vertical-align: top;\n",
       "    }\n",
       "\n",
       "    .dataframe thead th {\n",
       "        text-align: right;\n",
       "    }\n",
       "</style>\n",
       "<table border=\"1\" class=\"dataframe\">\n",
       "  <thead>\n",
       "    <tr style=\"text-align: right;\">\n",
       "      <th></th>\n",
       "      <th>DD/MM/AAAA</th>\n",
       "      <th>HH:MM</th>\n",
       "      <th>DIRS</th>\n",
       "      <th>DIRR</th>\n",
       "      <th>RAPVIENTO2</th>\n",
       "      <th>RAPRAFAGA2</th>\n",
       "      <th>TEMP</th>\n",
       "      <th>HR</th>\n",
       "      <th>PB</th>\n",
       "      <th>PREC</th>\n",
       "      <th>Rs</th>\n",
       "    </tr>\n",
       "  </thead>\n",
       "  <tbody>\n",
       "    <tr>\n",
       "      <th>0</th>\n",
       "      <td>29/01/2018</td>\n",
       "      <td>21:00</td>\n",
       "      <td>229</td>\n",
       "      <td>281</td>\n",
       "      <td>4.0</td>\n",
       "      <td>6.5</td>\n",
       "      <td>32.1</td>\n",
       "      <td>17</td>\n",
       "      <td>1013.3</td>\n",
       "      <td>0.0</td>\n",
       "      <td>659.0</td>\n",
       "    </tr>\n",
       "    <tr>\n",
       "      <th>1</th>\n",
       "      <td>29/01/2018</td>\n",
       "      <td>21:10</td>\n",
       "      <td>225</td>\n",
       "      <td>261</td>\n",
       "      <td>3.9</td>\n",
       "      <td>6.6</td>\n",
       "      <td>32.4</td>\n",
       "      <td>15</td>\n",
       "      <td>1013.2</td>\n",
       "      <td>0.0</td>\n",
       "      <td>647.0</td>\n",
       "    </tr>\n",
       "    <tr>\n",
       "      <th>2</th>\n",
       "      <td>29/01/2018</td>\n",
       "      <td>21:20</td>\n",
       "      <td>227</td>\n",
       "      <td>300</td>\n",
       "      <td>3.4</td>\n",
       "      <td>6.3</td>\n",
       "      <td>32.4</td>\n",
       "      <td>15</td>\n",
       "      <td>1013.2</td>\n",
       "      <td>0.0</td>\n",
       "      <td>629.0</td>\n",
       "    </tr>\n",
       "    <tr>\n",
       "      <th>3</th>\n",
       "      <td>29/01/2018</td>\n",
       "      <td>21:30</td>\n",
       "      <td>230</td>\n",
       "      <td>276</td>\n",
       "      <td>3.5</td>\n",
       "      <td>6.4</td>\n",
       "      <td>32.6</td>\n",
       "      <td>15</td>\n",
       "      <td>1013.1</td>\n",
       "      <td>0.0</td>\n",
       "      <td>609.0</td>\n",
       "    </tr>\n",
       "    <tr>\n",
       "      <th>4</th>\n",
       "      <td>29/01/2018</td>\n",
       "      <td>21:40</td>\n",
       "      <td>225</td>\n",
       "      <td>274</td>\n",
       "      <td>3.5</td>\n",
       "      <td>6.6</td>\n",
       "      <td>32.3</td>\n",
       "      <td>14</td>\n",
       "      <td>1013.0</td>\n",
       "      <td>0.0</td>\n",
       "      <td>585.0</td>\n",
       "    </tr>\n",
       "    <tr>\n",
       "      <th>...</th>\n",
       "      <td>...</td>\n",
       "      <td>...</td>\n",
       "      <td>...</td>\n",
       "      <td>...</td>\n",
       "      <td>...</td>\n",
       "      <td>...</td>\n",
       "      <td>...</td>\n",
       "      <td>...</td>\n",
       "      <td>...</td>\n",
       "      <td>...</td>\n",
       "      <td>...</td>\n",
       "    </tr>\n",
       "    <tr>\n",
       "      <th>139</th>\n",
       "      <td>30/01/2018</td>\n",
       "      <td>20:10</td>\n",
       "      <td>218</td>\n",
       "      <td>265</td>\n",
       "      <td>3.2</td>\n",
       "      <td>5.4</td>\n",
       "      <td>31.7</td>\n",
       "      <td>12</td>\n",
       "      <td>1012.6</td>\n",
       "      <td>0.0</td>\n",
       "      <td>710.0</td>\n",
       "    </tr>\n",
       "    <tr>\n",
       "      <th>140</th>\n",
       "      <td>30/01/2018</td>\n",
       "      <td>20:20</td>\n",
       "      <td>218</td>\n",
       "      <td>261</td>\n",
       "      <td>3.4</td>\n",
       "      <td>5.4</td>\n",
       "      <td>31.7</td>\n",
       "      <td>12</td>\n",
       "      <td>1012.4</td>\n",
       "      <td>0.0</td>\n",
       "      <td>709.0</td>\n",
       "    </tr>\n",
       "    <tr>\n",
       "      <th>141</th>\n",
       "      <td>30/01/2018</td>\n",
       "      <td>20:30</td>\n",
       "      <td>219</td>\n",
       "      <td>256</td>\n",
       "      <td>3.6</td>\n",
       "      <td>6.2</td>\n",
       "      <td>31.2</td>\n",
       "      <td>16</td>\n",
       "      <td>1012.2</td>\n",
       "      <td>0.0</td>\n",
       "      <td>704.0</td>\n",
       "    </tr>\n",
       "    <tr>\n",
       "      <th>142</th>\n",
       "      <td>30/01/2018</td>\n",
       "      <td>20:40</td>\n",
       "      <td>214</td>\n",
       "      <td>251</td>\n",
       "      <td>4.2</td>\n",
       "      <td>7.0</td>\n",
       "      <td>30.5</td>\n",
       "      <td>17</td>\n",
       "      <td>1012.2</td>\n",
       "      <td>0.0</td>\n",
       "      <td>700.0</td>\n",
       "    </tr>\n",
       "    <tr>\n",
       "      <th>143</th>\n",
       "      <td>30/01/2018</td>\n",
       "      <td>20:50</td>\n",
       "      <td>220</td>\n",
       "      <td>257</td>\n",
       "      <td>3.7</td>\n",
       "      <td>6.5</td>\n",
       "      <td>30.8</td>\n",
       "      <td>17</td>\n",
       "      <td>1012.1</td>\n",
       "      <td>0.0</td>\n",
       "      <td>690.0</td>\n",
       "    </tr>\n",
       "  </tbody>\n",
       "</table>\n",
       "<p>144 rows × 11 columns</p>\n",
       "</div>"
      ],
      "text/plain": [
       "     DD/MM/AAAA  HH:MM  DIRS  DIRR  RAPVIENTO2  RAPRAFAGA2  TEMP  HR      PB  \\\n",
       "0    29/01/2018  21:00   229   281         4.0         6.5  32.1  17  1013.3   \n",
       "1    29/01/2018  21:10   225   261         3.9         6.6  32.4  15  1013.2   \n",
       "2    29/01/2018  21:20   227   300         3.4         6.3  32.4  15  1013.2   \n",
       "3    29/01/2018  21:30   230   276         3.5         6.4  32.6  15  1013.1   \n",
       "4    29/01/2018  21:40   225   274         3.5         6.6  32.3  14  1013.0   \n",
       "..          ...    ...   ...   ...         ...         ...   ...  ..     ...   \n",
       "139  30/01/2018  20:10   218   265         3.2         5.4  31.7  12  1012.6   \n",
       "140  30/01/2018  20:20   218   261         3.4         5.4  31.7  12  1012.4   \n",
       "141  30/01/2018  20:30   219   256         3.6         6.2  31.2  16  1012.2   \n",
       "142  30/01/2018  20:40   214   251         4.2         7.0  30.5  17  1012.2   \n",
       "143  30/01/2018  20:50   220   257         3.7         6.5  30.8  17  1012.1   \n",
       "\n",
       "     PREC     Rs  \n",
       "0     0.0  659.0  \n",
       "1     0.0  647.0  \n",
       "2     0.0  629.0  \n",
       "3     0.0  609.0  \n",
       "4     0.0  585.0  \n",
       "..    ...    ...  \n",
       "139   0.0  710.0  \n",
       "140   0.0  709.0  \n",
       "141   0.0  704.0  \n",
       "142   0.0  700.0  \n",
       "143   0.0  690.0  \n",
       "\n",
       "[144 rows x 11 columns]"
      ]
     },
     "execution_count": 5,
     "metadata": {},
     "output_type": "execute_result"
    }
   ],
   "source": [
    "df0"
   ]
  },
  {
   "cell_type": "code",
   "execution_count": 6,
   "metadata": {},
   "outputs": [],
   "source": [
    "# Dar estructura de datos (DataFrame)\n",
    "df = pd.DataFrame(df0)"
   ]
  },
  {
   "cell_type": "code",
   "execution_count": 7,
   "metadata": {},
   "outputs": [
    {
     "data": {
      "text/plain": [
       "DD/MM/AAAA     object\n",
       "HH:MM          object\n",
       "DIRS            int64\n",
       "DIRR            int64\n",
       "RAPVIENTO2    float64\n",
       "RAPRAFAGA2    float64\n",
       "TEMP          float64\n",
       "HR              int64\n",
       "PB            float64\n",
       "PREC          float64\n",
       "Rs            float64\n",
       "dtype: object"
      ]
     },
     "execution_count": 7,
     "metadata": {},
     "output_type": "execute_result"
    }
   ],
   "source": [
    "# Ver los tipos de datos que Pandas ha reconocido al leer\n",
    "df.dtypes"
   ]
  },
  {
   "cell_type": "code",
   "execution_count": 8,
   "metadata": {},
   "outputs": [
    {
     "data": {
      "text/plain": [
       "DIRS           276.229167\n",
       "DIRR           263.819444\n",
       "RAPVIENTO2       2.650694\n",
       "RAPRAFAGA2       4.915972\n",
       "TEMP            24.097917\n",
       "HR              22.756944\n",
       "PB            1013.529861\n",
       "PREC             0.000000\n",
       "Rs             198.333333\n",
       "dtype: float64"
      ]
     },
     "execution_count": 8,
     "metadata": {},
     "output_type": "execute_result"
    }
   ],
   "source": [
    "# Calcula el promedio de las columnas, excepto en la FECHA (que no tendría sentido)\n",
    "df.mean()"
   ]
  },
  {
   "cell_type": "code",
   "execution_count": 9,
   "metadata": {},
   "outputs": [
    {
     "data": {
      "text/plain": [
       "24.097916666666666"
      ]
     },
     "execution_count": 9,
     "metadata": {},
     "output_type": "execute_result"
    }
   ],
   "source": [
    "# Calcula el promedio de las Temperaturas\n",
    "df.TEMP.mean()"
   ]
  },
  {
   "cell_type": "code",
   "execution_count": 10,
   "metadata": {
    "scrolled": true
   },
   "outputs": [
    {
     "data": {
      "image/png": "[encoded data removed]",
      "text/plain": [
       "<Figure size 432x288 with 1 Axes>"
      ]
     },
     "metadata": {
      "needs_background": "light"
     },
     "output_type": "display_data"
    }
   ],
   "source": [
    "\n",
    "# Gráfica de la rapidez de los vientos (m/s) \n",
    "plt.figure(); df.RAPVIENTO2.plot(); plt.legend(loc='best')#graficar la variable RAPVIENTO2 del dataframe df\n",
    "plt.title(\"Variación de la Rapidez de los Vientos\")\n",
    "#plt.xlabel(\"numero de datos\") #titulo para el eje x\n",
    "plt.ylabel(\"Rapidez (m/s)\") #titulo para el eje y\n",
    "plt.grid(False) #cuadricula para el grafico activada con TRUE, desactivada con FALSE\n",
    "plt.savefig('RAPVIENTO1.jpg') # para guardarla imagen genarada como RAPVIENTO.png en este caso\n",
    "plt.show()\n",
    " \n"
   ]
  },
  {
   "cell_type": "code",
   "execution_count": 11,
   "metadata": {},
   "outputs": [
    {
     "data": {
      "text/plain": [
       "<Figure size 432x288 with 0 Axes>"
      ]
     },
     "metadata": {},
     "output_type": "display_data"
    },
    {
     "data": {
      "image/png": "[encoded data removed]",
      "text/plain": [
       "<Figure size 432x288 with 1 Axes>"
      ]
     },
     "metadata": {
      "needs_background": "light"
     },
     "output_type": "display_data"
    }
   ],
   "source": [
    "# Gráfica de Temperatura y Humedad Relativa\n",
    "df1 = df[['TEMP','HR']]\n",
    "plt.figure(); df1.plot(); plt.legend(loc='best')#plt.legend(loc='best') pcomando para la graficar la leyenda de la variable\n",
    "plt.title(\"Variación de la Temperatura y la Humedad Relativa\")\n",
    "plt.ylabel(\"Temp ºC /(%) HR\")\n",
    "plt.grid(True)\n",
    "plt.savefig('TEMP_HR.jpg')\n",
    "plt.show()"
   ]
  },
  {
   "cell_type": "markdown",
   "metadata": {},
   "source": [
    "# Tarea\n",
    "### Cambiar de nombre las variables \"DD/MM/AAAA\", \"PREC\"  y \"TEMP\".\n",
    "### Hacer los graficos restantes de las variables \"RAPRAFAGA2\",\"TEMP\" , \"HR\" y \"PREC."
   ]
  },
  {
   "cell_type": "code",
   "execution_count": null,
   "metadata": {},
   "outputs": [],
   "source": []
  }
 ],
 "metadata": {
  "kernelspec": {
   "display_name": "Python 3",
   "language": "python",
   "name": "python3"
  },
  "language_info": {
   "codemirror_mode": {
    "name": "ipython",
    "version": 3
   },
   "file_extension": ".py",
   "mimetype": "text/x-python",
   "name": "python",
   "nbconvert_exporter": "python",
   "pygments_lexer": "ipython3",
   "version": "3.8.5"
  }
 },
 "nbformat": 4,
 "nbformat_minor": 4
}
